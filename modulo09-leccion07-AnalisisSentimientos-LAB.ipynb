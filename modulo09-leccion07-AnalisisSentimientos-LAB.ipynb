{
 "cells": [
  {
   "cell_type": "markdown",
   "metadata": {},
   "source": [
    "<div style=\"text-align: center;\">\n",
    "  <img src=\"https://github.com/Hack-io-Data/Imagenes/blob/main/01-LogosHackio/logo_naranja@4x.png?raw=true\" alt=\"esquema\" />\n",
    "</div>\n",
    "\n",
    "\n",
    "# Laboratorio NLP + Sist. Recomendación\n",
    "\n",
    "\n",
    "En este laboratorio, tabrajaras con datos de reseñas de productos para construir un sistema de recomendación que utilice procesamiento de lenguaje natural (NLP) y *machine learning*. El objetivo principal es que analices el contenido textual de las reseñas, clasifiques las opiniones en categorías (positiva, negativa o neutra) y aproveches esta información para personalizar las recomendaciones. El sistema priorizará los productos con mejores reseñas para usuarios específicos y permitirá evaluar si el análisis de sentimientos mejora la calidad de las recomendaciones. Tareas propuestas:\n",
    "\n",
    "\n",
    "**Caso 1: Crear un sistema de recomendación**: Debes generar un sistema de recomendación para priorizar productos con las reseñas para cada usuario. Los pasos que deberás seguir son:    \n",
    "\n",
    "- Estructurar el conjunto de datos\n",
    "\n",
    "- Sistema basado en contenido\n",
    "\n",
    "\n",
    "**Caso 2: Clasificar reseñas en positivas, negativas o neutras** Deberás implementar un modelo para analizar las reseñas textuales y clasificarlas en tres categorías:\n",
    "\n",
    "- Positivas: Si el sentimiento de la reseña es favorable.\n",
    "\n",
    "- Negativas: Si el sentimiento de la reseña es desfavorable.\n",
    "\n",
    "- Neutras: Si la reseña no tiene un sentimiento claro.\n",
    "\t\n",
    "- Pasos :\n",
    "\t- Preprocesamiento de texto: Limpiar las reseñas eliminando caracteres especiales, palabras vacías (stopwords) y realizar lematización.\n",
    "\t\n",
    "\t- Identificar las reseñas positivas, negativas y neutrales. \n",
    "\n",
    "\n",
    "Los datos los tendréis en el [siguiente enlace](https://drive.google.com/drive/u/0/folders/1vK5zESy9KElRhm_utg_lHHXuUArrwWgu) con la descipción de cada una de las columnas.  \n"
   ]
  },
  {
   "cell_type": "code",
   "execution_count": 34,
   "metadata": {},
   "outputs": [
    {
     "name": "stdout",
     "output_type": "stream",
     "text": [
      "The autoreload extension is already loaded. To reload it, use:\n",
      "  %reload_ext autoreload\n"
     ]
    }
   ],
   "source": [
    "%load_ext autoreload\n",
    "%autoreload 2\n",
    "\n",
    "# Tratamiento de datos\n",
    "# -----------------------------------------------------------------------\n",
    "import pandas as pd\n",
    "import numpy as np\n",
    "\n",
    "\n",
    "\n",
    "# Configuración de pandas\n",
    "# --------------------------------------------\n",
    "\n",
    "import warnings\n",
    "warnings.filterwarnings('ignore')\n",
    "\n",
    "# Para hacer visualizaciones\n",
    "# -------------------------------------------\n",
    "import seaborn as sns\n",
    "import matplotlib.pyplot as plt"
   ]
  },
  {
   "cell_type": "code",
   "execution_count": 35,
   "metadata": {},
   "outputs": [],
   "source": [
    "from sklearn.feature_extraction.text import CountVectorizer\n",
    "from sklearn.metrics.pairwise import cosine_similarity"
   ]
  },
  {
   "cell_type": "code",
   "execution_count": 36,
   "metadata": {},
   "outputs": [],
   "source": [
    "# Importamos nuesto archivo cn las funciones de soporte\n",
    "from src import soporte_nlp as snlp"
   ]
  },
  {
   "cell_type": "markdown",
   "metadata": {},
   "source": [
    "# Caso 2: Sistema de Recomendación Basado en Popularidad"
   ]
  },
  {
   "cell_type": "markdown",
   "metadata": {},
   "source": [
    "Volemos a cargar los datos iniciales."
   ]
  },
  {
   "cell_type": "code",
   "execution_count": 37,
   "metadata": {},
   "outputs": [
    {
     "data": {
      "text/html": [
       "<div>\n",
       "<style scoped>\n",
       "    .dataframe tbody tr th:only-of-type {\n",
       "        vertical-align: middle;\n",
       "    }\n",
       "\n",
       "    .dataframe tbody tr th {\n",
       "        vertical-align: top;\n",
       "    }\n",
       "\n",
       "    .dataframe thead th {\n",
       "        text-align: right;\n",
       "    }\n",
       "</style>\n",
       "<table border=\"1\" class=\"dataframe\">\n",
       "  <thead>\n",
       "    <tr style=\"text-align: right;\">\n",
       "      <th></th>\n",
       "      <th>productName</th>\n",
       "      <th>mainDepartment</th>\n",
       "      <th>reviewText</th>\n",
       "    </tr>\n",
       "  </thead>\n",
       "  <tbody>\n",
       "    <tr>\n",
       "      <th>0</th>\n",
       "      <td>(Refurbished) Apple iPhone 7, 32GB, Black - Fu...</td>\n",
       "      <td>Electronics</td>\n",
       "      <td>I’ll admit I was very skeptical from reviews b...</td>\n",
       "    </tr>\n",
       "    <tr>\n",
       "      <th>1</th>\n",
       "      <td>AIMEILI Gel Nail Polish No Wipe Top and Base C...</td>\n",
       "      <td>Beauty and Personal Care</td>\n",
       "      <td>It’s thick, but works good once you get used t...</td>\n",
       "    </tr>\n",
       "    <tr>\n",
       "      <th>2</th>\n",
       "      <td>AKASO EK7000 4K30FPS Action Camera Ultra HD Un...</td>\n",
       "      <td>Electronics</td>\n",
       "      <td>I was not impressed with the image quality.  A...</td>\n",
       "    </tr>\n",
       "    <tr>\n",
       "      <th>3</th>\n",
       "      <td>ASUS Laptop L210 Ultra Thin Laptop, 11.6” HD D...</td>\n",
       "      <td>Computers</td>\n",
       "      <td>The laptop arrived just in time for school!! W...</td>\n",
       "    </tr>\n",
       "    <tr>\n",
       "      <th>4</th>\n",
       "      <td>Acer Aspire 5 A515-46-R14K Slim Laptop | 15.6\"...</td>\n",
       "      <td>Computers</td>\n",
       "      <td>Bought for school work. Doing good so far.Slee...</td>\n",
       "    </tr>\n",
       "  </tbody>\n",
       "</table>\n",
       "</div>"
      ],
      "text/plain": [
       "                                         productName  \\\n",
       "0  (Refurbished) Apple iPhone 7, 32GB, Black - Fu...   \n",
       "1  AIMEILI Gel Nail Polish No Wipe Top and Base C...   \n",
       "2  AKASO EK7000 4K30FPS Action Camera Ultra HD Un...   \n",
       "3  ASUS Laptop L210 Ultra Thin Laptop, 11.6” HD D...   \n",
       "4  Acer Aspire 5 A515-46-R14K Slim Laptop | 15.6\"...   \n",
       "\n",
       "             mainDepartment                                         reviewText  \n",
       "0               Electronics  I’ll admit I was very skeptical from reviews b...  \n",
       "1  Beauty and Personal Care  It’s thick, but works good once you get used t...  \n",
       "2               Electronics  I was not impressed with the image quality.  A...  \n",
       "3                 Computers  The laptop arrived just in time for school!! W...  \n",
       "4                 Computers  Bought for school work. Doing good so far.Slee...  "
      ]
     },
     "execution_count": 37,
     "metadata": {},
     "output_type": "execute_result"
    }
   ],
   "source": [
    "df = pd.read_csv(\"datos/datos_agrupados.csv\", index_col=0)\n",
    "df.head()"
   ]
  },
  {
   "cell_type": "code",
   "execution_count": 38,
   "metadata": {},
   "outputs": [],
   "source": [
    "# Instanciamos la clase par analizar sentimientos\n",
    "sentimiento = snlp.AnalisisSentimientos(df, columna_texto='reviewText')"
   ]
  },
  {
   "cell_type": "code",
   "execution_count": 39,
   "metadata": {},
   "outputs": [
    {
     "data": {
      "text/html": [
       "<div>\n",
       "<style scoped>\n",
       "    .dataframe tbody tr th:only-of-type {\n",
       "        vertical-align: middle;\n",
       "    }\n",
       "\n",
       "    .dataframe tbody tr th {\n",
       "        vertical-align: top;\n",
       "    }\n",
       "\n",
       "    .dataframe thead th {\n",
       "        text-align: right;\n",
       "    }\n",
       "</style>\n",
       "<table border=\"1\" class=\"dataframe\">\n",
       "  <thead>\n",
       "    <tr style=\"text-align: right;\">\n",
       "      <th></th>\n",
       "      <th>neg</th>\n",
       "      <th>neu</th>\n",
       "      <th>pos</th>\n",
       "      <th>compound</th>\n",
       "    </tr>\n",
       "  </thead>\n",
       "  <tbody>\n",
       "    <tr>\n",
       "      <th>count</th>\n",
       "      <td>99.000000</td>\n",
       "      <td>99.000000</td>\n",
       "      <td>99.000000</td>\n",
       "      <td>99.000000</td>\n",
       "    </tr>\n",
       "    <tr>\n",
       "      <th>mean</th>\n",
       "      <td>0.087283</td>\n",
       "      <td>0.745101</td>\n",
       "      <td>0.167525</td>\n",
       "      <td>0.886697</td>\n",
       "    </tr>\n",
       "    <tr>\n",
       "      <th>std</th>\n",
       "      <td>0.021869</td>\n",
       "      <td>0.040232</td>\n",
       "      <td>0.041658</td>\n",
       "      <td>0.407872</td>\n",
       "    </tr>\n",
       "    <tr>\n",
       "      <th>min</th>\n",
       "      <td>0.045000</td>\n",
       "      <td>0.647000</td>\n",
       "      <td>0.045000</td>\n",
       "      <td>-0.986700</td>\n",
       "    </tr>\n",
       "    <tr>\n",
       "      <th>25%</th>\n",
       "      <td>0.075500</td>\n",
       "      <td>0.722000</td>\n",
       "      <td>0.143000</td>\n",
       "      <td>0.999550</td>\n",
       "    </tr>\n",
       "    <tr>\n",
       "      <th>50%</th>\n",
       "      <td>0.086000</td>\n",
       "      <td>0.740000</td>\n",
       "      <td>0.171000</td>\n",
       "      <td>0.999900</td>\n",
       "    </tr>\n",
       "    <tr>\n",
       "      <th>75%</th>\n",
       "      <td>0.096000</td>\n",
       "      <td>0.767000</td>\n",
       "      <td>0.195500</td>\n",
       "      <td>1.000000</td>\n",
       "    </tr>\n",
       "    <tr>\n",
       "      <th>max</th>\n",
       "      <td>0.169000</td>\n",
       "      <td>0.885000</td>\n",
       "      <td>0.266000</td>\n",
       "      <td>1.000000</td>\n",
       "    </tr>\n",
       "  </tbody>\n",
       "</table>\n",
       "</div>"
      ],
      "text/plain": [
       "             neg        neu        pos   compound\n",
       "count  99.000000  99.000000  99.000000  99.000000\n",
       "mean    0.087283   0.745101   0.167525   0.886697\n",
       "std     0.021869   0.040232   0.041658   0.407872\n",
       "min     0.045000   0.647000   0.045000  -0.986700\n",
       "25%     0.075500   0.722000   0.143000   0.999550\n",
       "50%     0.086000   0.740000   0.171000   0.999900\n",
       "75%     0.096000   0.767000   0.195500   1.000000\n",
       "max     0.169000   0.885000   0.266000   1.000000"
      ]
     },
     "execution_count": 39,
     "metadata": {},
     "output_type": "execute_result"
    }
   ],
   "source": [
    "# Sacamos un resumen estadístico\n",
    "sentimiento.obtener_resumen()"
   ]
  },
  {
   "cell_type": "code",
   "execution_count": 40,
   "metadata": {},
   "outputs": [
    {
     "data": {
      "text/html": [
       "<div>\n",
       "<style scoped>\n",
       "    .dataframe tbody tr th:only-of-type {\n",
       "        vertical-align: middle;\n",
       "    }\n",
       "\n",
       "    .dataframe tbody tr th {\n",
       "        vertical-align: top;\n",
       "    }\n",
       "\n",
       "    .dataframe thead th {\n",
       "        text-align: right;\n",
       "    }\n",
       "</style>\n",
       "<table border=\"1\" class=\"dataframe\">\n",
       "  <thead>\n",
       "    <tr style=\"text-align: right;\">\n",
       "      <th></th>\n",
       "      <th>productName</th>\n",
       "      <th>mainDepartment</th>\n",
       "      <th>reviewText</th>\n",
       "      <th>neg</th>\n",
       "      <th>neu</th>\n",
       "      <th>pos</th>\n",
       "      <th>compound</th>\n",
       "    </tr>\n",
       "  </thead>\n",
       "  <tbody>\n",
       "    <tr>\n",
       "      <th>0</th>\n",
       "      <td>(Refurbished) Apple iPhone 7, 32GB, Black - Fu...</td>\n",
       "      <td>Electronics</td>\n",
       "      <td>I’ll admit I was very skeptical from reviews b...</td>\n",
       "      <td>0.094</td>\n",
       "      <td>0.756</td>\n",
       "      <td>0.149</td>\n",
       "      <td>0.9999</td>\n",
       "    </tr>\n",
       "    <tr>\n",
       "      <th>1</th>\n",
       "      <td>AIMEILI Gel Nail Polish No Wipe Top and Base C...</td>\n",
       "      <td>Beauty and Personal Care</td>\n",
       "      <td>It’s thick, but works good once you get used t...</td>\n",
       "      <td>0.066</td>\n",
       "      <td>0.702</td>\n",
       "      <td>0.232</td>\n",
       "      <td>1.0000</td>\n",
       "    </tr>\n",
       "    <tr>\n",
       "      <th>2</th>\n",
       "      <td>AKASO EK7000 4K30FPS Action Camera Ultra HD Un...</td>\n",
       "      <td>Electronics</td>\n",
       "      <td>I was not impressed with the image quality.  A...</td>\n",
       "      <td>0.095</td>\n",
       "      <td>0.751</td>\n",
       "      <td>0.154</td>\n",
       "      <td>0.9999</td>\n",
       "    </tr>\n",
       "    <tr>\n",
       "      <th>3</th>\n",
       "      <td>ASUS Laptop L210 Ultra Thin Laptop, 11.6” HD D...</td>\n",
       "      <td>Computers</td>\n",
       "      <td>The laptop arrived just in time for school!! W...</td>\n",
       "      <td>0.076</td>\n",
       "      <td>0.797</td>\n",
       "      <td>0.127</td>\n",
       "      <td>0.9996</td>\n",
       "    </tr>\n",
       "    <tr>\n",
       "      <th>4</th>\n",
       "      <td>Acer Aspire 5 A515-46-R14K Slim Laptop | 15.6\"...</td>\n",
       "      <td>Computers</td>\n",
       "      <td>Bought for school work. Doing good so far.Slee...</td>\n",
       "      <td>0.104</td>\n",
       "      <td>0.769</td>\n",
       "      <td>0.127</td>\n",
       "      <td>0.9997</td>\n",
       "    </tr>\n",
       "    <tr>\n",
       "      <th>...</th>\n",
       "      <td>...</td>\n",
       "      <td>...</td>\n",
       "      <td>...</td>\n",
       "      <td>...</td>\n",
       "      <td>...</td>\n",
       "      <td>...</td>\n",
       "      <td>...</td>\n",
       "    </tr>\n",
       "    <tr>\n",
       "      <th>94</th>\n",
       "      <td>adidas Men's Adilette Shower Slide</td>\n",
       "      <td>Computers</td>\n",
       "      <td>Not adjustable or comfortable. Ran too small. ...</td>\n",
       "      <td>0.095</td>\n",
       "      <td>0.708</td>\n",
       "      <td>0.196</td>\n",
       "      <td>0.9999</td>\n",
       "    </tr>\n",
       "    <tr>\n",
       "      <th>95</th>\n",
       "      <td>havit HV-F2056 15.6\"-17\" Laptop Cooler Cooling...</td>\n",
       "      <td>Computers</td>\n",
       "      <td>When I received the product, one of the fans d...</td>\n",
       "      <td>0.079</td>\n",
       "      <td>0.777</td>\n",
       "      <td>0.144</td>\n",
       "      <td>1.0000</td>\n",
       "    </tr>\n",
       "    <tr>\n",
       "      <th>96</th>\n",
       "      <td>iJoy Matte Finish Premium Rechargeable Wireles...</td>\n",
       "      <td>Electronics</td>\n",
       "      <td>The ear pieces are not nearly as soft as they ...</td>\n",
       "      <td>0.093</td>\n",
       "      <td>0.727</td>\n",
       "      <td>0.180</td>\n",
       "      <td>0.9999</td>\n",
       "    </tr>\n",
       "    <tr>\n",
       "      <th>97</th>\n",
       "      <td>livho 2 Pack Blue Light Blocking Glasses, Comp...</td>\n",
       "      <td>Computers</td>\n",
       "      <td>Got headaches with these glasses I like the an...</td>\n",
       "      <td>0.096</td>\n",
       "      <td>0.696</td>\n",
       "      <td>0.208</td>\n",
       "      <td>0.9999</td>\n",
       "    </tr>\n",
       "    <tr>\n",
       "      <th>98</th>\n",
       "      <td>seenda Wireless Mouse, 2.4G Noiseless Mouse wi...</td>\n",
       "      <td>Computers</td>\n",
       "      <td>never did work !!!  cheaply made and cover has...</td>\n",
       "      <td>0.074</td>\n",
       "      <td>0.734</td>\n",
       "      <td>0.192</td>\n",
       "      <td>0.9999</td>\n",
       "    </tr>\n",
       "  </tbody>\n",
       "</table>\n",
       "<p>99 rows × 7 columns</p>\n",
       "</div>"
      ],
      "text/plain": [
       "                                          productName  \\\n",
       "0   (Refurbished) Apple iPhone 7, 32GB, Black - Fu...   \n",
       "1   AIMEILI Gel Nail Polish No Wipe Top and Base C...   \n",
       "2   AKASO EK7000 4K30FPS Action Camera Ultra HD Un...   \n",
       "3   ASUS Laptop L210 Ultra Thin Laptop, 11.6” HD D...   \n",
       "4   Acer Aspire 5 A515-46-R14K Slim Laptop | 15.6\"...   \n",
       "..                                                ...   \n",
       "94                 adidas Men's Adilette Shower Slide   \n",
       "95  havit HV-F2056 15.6\"-17\" Laptop Cooler Cooling...   \n",
       "96  iJoy Matte Finish Premium Rechargeable Wireles...   \n",
       "97  livho 2 Pack Blue Light Blocking Glasses, Comp...   \n",
       "98  seenda Wireless Mouse, 2.4G Noiseless Mouse wi...   \n",
       "\n",
       "              mainDepartment  \\\n",
       "0                Electronics   \n",
       "1   Beauty and Personal Care   \n",
       "2                Electronics   \n",
       "3                  Computers   \n",
       "4                  Computers   \n",
       "..                       ...   \n",
       "94                 Computers   \n",
       "95                 Computers   \n",
       "96               Electronics   \n",
       "97                 Computers   \n",
       "98                 Computers   \n",
       "\n",
       "                                           reviewText    neg    neu    pos  \\\n",
       "0   I’ll admit I was very skeptical from reviews b...  0.094  0.756  0.149   \n",
       "1   It’s thick, but works good once you get used t...  0.066  0.702  0.232   \n",
       "2   I was not impressed with the image quality.  A...  0.095  0.751  0.154   \n",
       "3   The laptop arrived just in time for school!! W...  0.076  0.797  0.127   \n",
       "4   Bought for school work. Doing good so far.Slee...  0.104  0.769  0.127   \n",
       "..                                                ...    ...    ...    ...   \n",
       "94  Not adjustable or comfortable. Ran too small. ...  0.095  0.708  0.196   \n",
       "95  When I received the product, one of the fans d...  0.079  0.777  0.144   \n",
       "96  The ear pieces are not nearly as soft as they ...  0.093  0.727  0.180   \n",
       "97  Got headaches with these glasses I like the an...  0.096  0.696  0.208   \n",
       "98  never did work !!!  cheaply made and cover has...  0.074  0.734  0.192   \n",
       "\n",
       "    compound  \n",
       "0     0.9999  \n",
       "1     1.0000  \n",
       "2     0.9999  \n",
       "3     0.9996  \n",
       "4     0.9997  \n",
       "..       ...  \n",
       "94    0.9999  \n",
       "95    1.0000  \n",
       "96    0.9999  \n",
       "97    0.9999  \n",
       "98    0.9999  \n",
       "\n",
       "[99 rows x 7 columns]"
      ]
     },
     "execution_count": 40,
     "metadata": {},
     "output_type": "execute_result"
    }
   ],
   "source": [
    "sentimiento.dataframe\n"
   ]
  },
  {
   "cell_type": "code",
   "execution_count": 42,
   "metadata": {},
   "outputs": [
    {
     "data": {
      "text/plain": [
       "array([ 0.9999,  1.    ,  0.9996,  0.9997,  0.9678, -0.0772,  0.9995,\n",
       "        0.9998,  0.9983, -0.6908, -0.6673,  0.9994,  0.9981,  0.9549,\n",
       "        0.9989, -0.9867,  0.1252,  0.9992,  0.9661,  0.8219,  0.999 ,\n",
       "        0.9991, -0.9224,  0.9971, -0.5174,  0.8303])"
      ]
     },
     "execution_count": 42,
     "metadata": {},
     "output_type": "execute_result"
    }
   ],
   "source": [
    "sentimiento.dataframe['compound'].unique()"
   ]
  },
  {
   "cell_type": "markdown",
   "metadata": {},
   "source": [
    "Observamos muchos valores proximos a 1, es decir, sentimientos positivos."
   ]
  },
  {
   "cell_type": "markdown",
   "metadata": {},
   "source": [
    "Sacamos visualizaciones para identificar como ha distribuido los sentimientos"
   ]
  },
  {
   "cell_type": "code",
   "execution_count": 41,
   "metadata": {},
   "outputs": [
    {
     "data": {
      "image/png": "[encoded data removed]",
      "text/plain": [
       "<Figure size 800x500 with 1 Axes>"
      ]
     },
     "metadata": {},
     "output_type": "display_data"
    },
    {
     "data": {
      "image/png": "[encoded data removed]",
      "text/plain": [
       "<Figure size 800x500 with 1 Axes>"
      ]
     },
     "metadata": {},
     "output_type": "display_data"
    },
    {
     "data": {
      "image/png": "[encoded data removed]",
      "text/plain": [
       "<Figure size 800x600 with 2 Axes>"
      ]
     },
     "metadata": {},
     "output_type": "display_data"
    }
   ],
   "source": [
    "sentimiento.graficar_distribucion_sentimientos()\n",
    "sentimiento.graficar_distribucion_compound()\n",
    "sentimiento.graficar_mapa_calor_sentimientos()"
   ]
  },
  {
   "cell_type": "markdown",
   "metadata": {},
   "source": [
    "Vemos que los sentimientos neutros son los que predominan. Pero hay que ctener en cuenta que está evaluando todas las palabras juntas. Por lo que este resultado puede ser por \"anularse\" palabras positivas y negativas.\n",
    "\n",
    "El análisis del mapa de calor refleja las siguientes observaciones clave:\n",
    "\n",
    "Sentimientos neutros predominantes:\n",
    "\n",
    "Se observa que los sentimientos neutros son los más destacados. Sin embargo, este predominio podría deberse a que el análisis considera todas las palabras juntas, lo que puede \"anular\" los efectos de palabras positivas y negativas.\n",
    "Correlaciones principales:\n",
    "\n",
    "Cada sentimiento presenta una autocorrelación perfecta de 1 (diagonal del mapa), como es de esperarse.\n",
    "Relación entre compound y los demás sentimientos:\n",
    "\n",
    "Existe una correlación negativa entre compound y negativo (-0.45), lo que indica que a medida que compound aumenta, el sentimiento negativo disminuye.\n",
    "Hay una correlación negativa leve entre compound y neutral (-0.32). Esto es esperable, ya que los sentimientos neutrales tienen menor influencia en la clasificación general.\n",
    "Existe una correlación positiva moderada entre compound y positivo (0.54), lo que tiene sentido, ya que un aumento en compound suele estar asociado con mayores puntuaciones positivas.\n",
    "Relación entre sentimientos positivos, negativos y neutrales:\n",
    "\n",
    "Hay una correlación negativa alta entre sentimientos neutros y positivos (-0.86), lo que sugiere que un aumento en los sentimientos positivos tiende a excluir los sentimientos neutros.\n",
    "Existe una correlación negativa leve entre sentimientos positivos y negativos (-0.32), lo cual es lógico, ya que un alto nivel de sentimiento negativo tiende a excluir un sentimiento positivo."
   ]
  },
  {
   "cell_type": "code",
   "execution_count": 44,
   "metadata": {},
   "outputs": [
    {
     "data": {
      "text/html": [
       "<div>\n",
       "<style scoped>\n",
       "    .dataframe tbody tr th:only-of-type {\n",
       "        vertical-align: middle;\n",
       "    }\n",
       "\n",
       "    .dataframe tbody tr th {\n",
       "        vertical-align: top;\n",
       "    }\n",
       "\n",
       "    .dataframe thead th {\n",
       "        text-align: right;\n",
       "    }\n",
       "</style>\n",
       "<table border=\"1\" class=\"dataframe\">\n",
       "  <thead>\n",
       "    <tr style=\"text-align: right;\">\n",
       "      <th></th>\n",
       "      <th>productName</th>\n",
       "      <th>compound</th>\n",
       "    </tr>\n",
       "  </thead>\n",
       "  <tbody>\n",
       "    <tr>\n",
       "      <th>0</th>\n",
       "      <td>(Refurbished) Apple iPhone 7, 32GB, Black - Fu...</td>\n",
       "      <td>0.9999</td>\n",
       "    </tr>\n",
       "    <tr>\n",
       "      <th>1</th>\n",
       "      <td>AIMEILI Gel Nail Polish No Wipe Top and Base C...</td>\n",
       "      <td>1.0000</td>\n",
       "    </tr>\n",
       "    <tr>\n",
       "      <th>2</th>\n",
       "      <td>AKASO EK7000 4K30FPS Action Camera Ultra HD Un...</td>\n",
       "      <td>0.9999</td>\n",
       "    </tr>\n",
       "    <tr>\n",
       "      <th>3</th>\n",
       "      <td>ASUS Laptop L210 Ultra Thin Laptop, 11.6” HD D...</td>\n",
       "      <td>0.9996</td>\n",
       "    </tr>\n",
       "    <tr>\n",
       "      <th>4</th>\n",
       "      <td>Acer Aspire 5 A515-46-R14K Slim Laptop | 15.6\"...</td>\n",
       "      <td>0.9997</td>\n",
       "    </tr>\n",
       "    <tr>\n",
       "      <th>...</th>\n",
       "      <td>...</td>\n",
       "      <td>...</td>\n",
       "    </tr>\n",
       "    <tr>\n",
       "      <th>94</th>\n",
       "      <td>adidas Men's Adilette Shower Slide</td>\n",
       "      <td>0.9999</td>\n",
       "    </tr>\n",
       "    <tr>\n",
       "      <th>95</th>\n",
       "      <td>havit HV-F2056 15.6\"-17\" Laptop Cooler Cooling...</td>\n",
       "      <td>1.0000</td>\n",
       "    </tr>\n",
       "    <tr>\n",
       "      <th>96</th>\n",
       "      <td>iJoy Matte Finish Premium Rechargeable Wireles...</td>\n",
       "      <td>0.9999</td>\n",
       "    </tr>\n",
       "    <tr>\n",
       "      <th>97</th>\n",
       "      <td>livho 2 Pack Blue Light Blocking Glasses, Comp...</td>\n",
       "      <td>0.9999</td>\n",
       "    </tr>\n",
       "    <tr>\n",
       "      <th>98</th>\n",
       "      <td>seenda Wireless Mouse, 2.4G Noiseless Mouse wi...</td>\n",
       "      <td>0.9999</td>\n",
       "    </tr>\n",
       "  </tbody>\n",
       "</table>\n",
       "<p>99 rows × 2 columns</p>\n",
       "</div>"
      ],
      "text/plain": [
       "                                          productName  compound\n",
       "0   (Refurbished) Apple iPhone 7, 32GB, Black - Fu...    0.9999\n",
       "1   AIMEILI Gel Nail Polish No Wipe Top and Base C...    1.0000\n",
       "2   AKASO EK7000 4K30FPS Action Camera Ultra HD Un...    0.9999\n",
       "3   ASUS Laptop L210 Ultra Thin Laptop, 11.6” HD D...    0.9996\n",
       "4   Acer Aspire 5 A515-46-R14K Slim Laptop | 15.6\"...    0.9997\n",
       "..                                                ...       ...\n",
       "94                 adidas Men's Adilette Shower Slide    0.9999\n",
       "95  havit HV-F2056 15.6\"-17\" Laptop Cooler Cooling...    1.0000\n",
       "96  iJoy Matte Finish Premium Rechargeable Wireles...    0.9999\n",
       "97  livho 2 Pack Blue Light Blocking Glasses, Comp...    0.9999\n",
       "98  seenda Wireless Mouse, 2.4G Noiseless Mouse wi...    0.9999\n",
       "\n",
       "[99 rows x 2 columns]"
      ]
     },
     "execution_count": 44,
     "metadata": {},
     "output_type": "execute_result"
    }
   ],
   "source": [
    "sentimiento.dataframe[['productName','compound']]"
   ]
  },
  {
   "cell_type": "code",
   "execution_count": 47,
   "metadata": {},
   "outputs": [],
   "source": [
    "sentimiento.dataframe['sentimiento'] = sentimiento.dataframe['compound'].apply(lambda valor: sentimiento.clasificar_sentimiento(valor))\n"
   ]
  },
  {
   "cell_type": "code",
   "execution_count": 48,
   "metadata": {},
   "outputs": [
    {
     "data": {
      "text/plain": [
       "sentimiento\n",
       "positivo    0.939394\n",
       "negativo    0.060606\n",
       "Name: proportion, dtype: float64"
      ]
     },
     "execution_count": 48,
     "metadata": {},
     "output_type": "execute_result"
    }
   ],
   "source": [
    "sentimiento.dataframe['sentimiento'].value_counts(normalize=True)"
   ]
  },
  {
   "cell_type": "markdown",
   "metadata": {},
   "source": [
    "Tenemos un casi un 94 % de sentimientos positivos."
   ]
  }
 ],
 "metadata": {
  "kernelspec": {
   "display_name": "Python 3",
   "language": "python",
   "name": "python3"
  },
  "language_info": {
   "codemirror_mode": {
    "name": "ipython",
    "version": 3
   },
   "file_extension": ".py",
   "mimetype": "text/x-python",
   "name": "python",
   "nbconvert_exporter": "python",
   "pygments_lexer": "ipython3",
   "version": "3.12.6"
  }
 },
 "nbformat": 4,
 "nbformat_minor": 2
}
